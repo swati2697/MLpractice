{
  "nbformat": 4,
  "nbformat_minor": 0,
  "metadata": {
    "colab": {
      "name": "Swati_test.ipynb",
      "provenance": [],
      "authorship_tag": "ABX9TyOrt+vOyKbP7RLaPiaauCgD",
      "include_colab_link": true
    },
    "kernelspec": {
      "name": "python3",
      "display_name": "Python 3"
    },
    "language_info": {
      "name": "python"
    }
  },
  "cells": [
    {
      "cell_type": "markdown",
      "metadata": {
        "id": "view-in-github",
        "colab_type": "text"
      },
      "source": [
        "<a href=\"https://colab.research.google.com/github/swati2697/MLpractice/blob/main/Swati_test.ipynb\" target=\"_parent\"><img src=\"https://colab.research.google.com/assets/colab-badge.svg\" alt=\"Open In Colab\"/></a>"
      ]
    },
    {
      "cell_type": "code",
      "execution_count": 36,
      "metadata": {
        "id": "jE0znoUmxp5W"
      },
      "outputs": [],
      "source": [
        "import tensorflow as tf\n",
        "import numpy as np\n",
        "from tensorflow import keras"
      ]
    },
    {
      "cell_type": "code",
      "source": [
        "model = tf.keras.Sequential([keras.layers.Dense(units = 1, input_shape = [1])])\n"
      ],
      "metadata": {
        "id": "-cOiOveyx-rr"
      },
      "execution_count": 37,
      "outputs": []
    },
    {
      "cell_type": "code",
      "source": [
        "model.compile(optimizer='sgd', loss='mean_squared_error')"
      ],
      "metadata": {
        "id": "WwO22S74zFzQ"
      },
      "execution_count": 38,
      "outputs": []
    },
    {
      "cell_type": "code",
      "source": [
        "xs = np.array([2104, 1416, 1534, 1364, 3387], dtype=float)\n",
        "ys = np.array([460, 232, 315, 189, 589], dtype =float)"
      ],
      "metadata": {
        "id": "k3Nd2jwnzTZk"
      },
      "execution_count": 39,
      "outputs": []
    },
    {
      "cell_type": "code",
      "source": [
        "model.fit(xs, ys, epochs=4)"
      ],
      "metadata": {
        "colab": {
          "base_uri": "https://localhost:8080/"
        },
        "id": "7t7d3WW501xM",
        "outputId": "90ce15c4-8d3a-4885-befa-977c023f3933"
      },
      "execution_count": 40,
      "outputs": [
        {
          "output_type": "stream",
          "name": "stdout",
          "text": [
            "Epoch 1/4\n",
            "1/1 [==============================] - 0s 267ms/step - loss: 1374029.2500\n",
            "Epoch 2/4\n",
            "1/1 [==============================] - 0s 9ms/step - loss: 10734993730961408.0000\n",
            "Epoch 3/4\n",
            "1/1 [==============================] - 0s 14ms/step - loss: 84018739596482314911088640.0000\n",
            "Epoch 4/4\n",
            "1/1 [==============================] - 0s 5ms/step - loss: 657582736153804519283489285179703296.0000\n"
          ]
        },
        {
          "output_type": "execute_result",
          "data": {
            "text/plain": [
              "<keras.callbacks.History at 0x7fc6d73f1390>"
            ]
          },
          "metadata": {},
          "execution_count": 40
        }
      ]
    },
    {
      "cell_type": "code",
      "source": [
        "print(model.predict([1000]))"
      ],
      "metadata": {
        "colab": {
          "base_uri": "https://localhost:8080/"
        },
        "id": "MkloTZqe1zgJ",
        "outputId": "a29a8249-5fb1-4d34-96d0-ec3a5cbe5900"
      },
      "execution_count": 41,
      "outputs": [
        {
          "output_type": "stream",
          "name": "stdout",
          "text": [
            "[[-3.410998e+22]]\n"
          ]
        }
      ]
    }
  ]
}
